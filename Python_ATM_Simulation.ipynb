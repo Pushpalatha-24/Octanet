{
 "cells": [
  {
   "cell_type": "markdown",
   "id": "e8f05868",
   "metadata": {},
   "source": [
    "### Creating an ATM machine Simulation"
   ]
  },
  {
   "cell_type": "code",
   "execution_count": 1,
   "id": "28ca3419",
   "metadata": {},
   "outputs": [],
   "source": [
    "#Import the time module for simulating delays.\n",
    "import time"
   ]
  },
  {
   "cell_type": "code",
   "execution_count": 2,
   "id": "72b94408",
   "metadata": {},
   "outputs": [
    {
     "name": "stdout",
     "output_type": "stream",
     "text": [
      "Please insert your card\n"
     ]
    }
   ],
   "source": [
    "# Display message to insert card\n",
    "print(\"Please insert your card\")"
   ]
  },
  {
   "cell_type": "code",
   "execution_count": 3,
   "id": "8c55a5ba",
   "metadata": {},
   "outputs": [],
   "source": [
    "# Simulate card insertion delay\n",
    "time.sleep(5)"
   ]
  },
  {
   "cell_type": "code",
   "execution_count": 4,
   "id": "f62b440b",
   "metadata": {},
   "outputs": [],
   "source": [
    "# Set the correct PIN for the ATM\n",
    "Password=1234"
   ]
  },
  {
   "cell_type": "code",
   "execution_count": 5,
   "id": "9f103ddf",
   "metadata": {},
   "outputs": [
    {
     "name": "stdout",
     "output_type": "stream",
     "text": [
      "Enter your ATM pin1234\n"
     ]
    }
   ],
   "source": [
    "# Prompt user to enter PIN\n",
    "PIN=int(input(\"Enter your ATM pin\"))"
   ]
  },
  {
   "cell_type": "code",
   "execution_count": 6,
   "id": "ef099bcb",
   "metadata": {},
   "outputs": [],
   "source": [
    "# Set initial balance\n",
    "Balance=5000"
   ]
  },
  {
   "cell_type": "code",
   "execution_count": 7,
   "id": "0f6e8618",
   "metadata": {},
   "outputs": [
    {
     "name": "stdout",
     "output_type": "stream",
     "text": [
      "\n",
      "      1==Balance\n",
      "      2==Withdraw balance\n",
      "      3==Deposit balance\n",
      "      4==Exit\n",
      "      \n",
      "Please enter your choice :1\n",
      "your current balance is 5000\n",
      "=================================================================\n",
      "=================================================================\n",
      "=================================================================\n",
      "\n",
      "      1==Balance\n",
      "      2==Withdraw balance\n",
      "      3==Deposit balance\n",
      "      4==Exit\n",
      "      \n",
      "Please enter your choice :2\n",
      "please enter withdraw_amount2500\n",
      "=================================================================\n",
      "=================================================================\n",
      "=================================================================\n",
      "=================================================================\n",
      "=================================================================\n",
      "2500 is debited from your account\n",
      "your current balance is 2500\n",
      "=================================================================\n",
      "=================================================================\n",
      "\n",
      "      1==Balance\n",
      "      2==Withdraw balance\n",
      "      3==Deposit balance\n",
      "      4==Exit\n",
      "      \n",
      "Please enter your choice :3\n",
      "please enter deposited_amount2500\n",
      "=================================================================\n",
      "=================================================================\n",
      "2500 is credited to your account\n",
      "your updated balance is 5000\n",
      "=================================================================\n",
      "=================================================================\n",
      "=================================================================\n",
      "\n",
      "      1==Balance\n",
      "      2==Withdraw balance\n",
      "      3==Deposit balance\n",
      "      4==Exit\n",
      "      \n",
      "Please enter your choice :1\n",
      "your current balance is 5000\n",
      "=================================================================\n",
      "=================================================================\n",
      "=================================================================\n",
      "\n",
      "      1==Balance\n",
      "      2==Withdraw balance\n",
      "      3==Deposit balance\n",
      "      4==Exit\n",
      "      \n",
      "Please enter your choice :4\n"
     ]
    }
   ],
   "source": [
    "# Check if entered PIN matches the correct PIN\n",
    "if PIN==Password:\n",
    "# If PIN is correct, enter ATM operations loop\n",
    "    while True:\n",
    "        # Display menu options\n",
    "        print(\"\"\"\n",
    "      1==Balance\n",
    "      2==Withdraw balance\n",
    "      3==Deposit balance\n",
    "      4==Exit\n",
    "      \"\"\"\n",
    "      )\n",
    "        try:\n",
    "             # Prompt user for menu option\n",
    "            option=int(input(\"Please enter your choice :\"))\n",
    "        except:\n",
    "            print(\"Please enter valid option\")\n",
    "        # Option 1: Checking balance\n",
    "        if option==1:\n",
    "            print(f\"your current balance is {Balance}\")\n",
    "            print(\"=================================================================\")\n",
    "            print(\"=================================================================\")\n",
    "            print(\"=================================================================\")\n",
    "        # Option 2: Withdraw balance\n",
    "        if option==2:\n",
    "            Withdraw_amount=int(input(\"please enter withdraw_amount\"))\n",
    "            print(\"=================================================================\")\n",
    "            print(\"=================================================================\")\n",
    "            print(\"=================================================================\")\n",
    "            Balance=Balance-Withdraw_amount\n",
    "            print(\"=================================================================\")\n",
    "            print(\"=================================================================\")\n",
    "            print(f\"{Withdraw_amount} is debited from your account\")\n",
    "            print(f\"your current balance is {Balance}\")\n",
    "            print(\"=================================================================\")\n",
    "            print(\"=================================================================\")\n",
    "        # Option 3: Deposit balance    \n",
    "        if option==3:\n",
    "            deposited_amount=int(input(\"please enter deposited_amount\"))\n",
    "            Balance=Balance+deposited_amount\n",
    "            print(\"=================================================================\")\n",
    "            print(\"=================================================================\")\n",
    "            print(f\"{deposited_amount} is credited to your account\")\n",
    "            print(f\"your updated balance is {Balance}\")\n",
    "            print(\"=================================================================\")\n",
    "            print(\"=================================================================\")\n",
    "            print(\"=================================================================\")\n",
    "        # Option 4: Exit\n",
    "        if option==4:\n",
    "            break\n",
    "else:\n",
    "    # Display message for incorrect PIN\n",
    "    print(\"wrong pin please try again\")"
   ]
  },
  {
   "cell_type": "code",
   "execution_count": null,
   "id": "e4d09da7",
   "metadata": {},
   "outputs": [],
   "source": []
  }
 ],
 "metadata": {
  "kernelspec": {
   "display_name": "Python 3 (ipykernel)",
   "language": "python",
   "name": "python3"
  },
  "language_info": {
   "codemirror_mode": {
    "name": "ipython",
    "version": 3
   },
   "file_extension": ".py",
   "mimetype": "text/x-python",
   "name": "python",
   "nbconvert_exporter": "python",
   "pygments_lexer": "ipython3",
   "version": "3.11.5"
  }
 },
 "nbformat": 4,
 "nbformat_minor": 5
}
